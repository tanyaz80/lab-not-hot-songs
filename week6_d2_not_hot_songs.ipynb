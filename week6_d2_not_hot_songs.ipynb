{
 "cells": [
  {
   "cell_type": "code",
   "execution_count": 220,
   "id": "bbe3704a",
   "metadata": {},
   "outputs": [],
   "source": [
    "import pandas as pd\n",
    "import numpy as np"
   ]
  },
  {
   "cell_type": "code",
   "execution_count": 221,
   "id": "7acae1b4",
   "metadata": {
    "scrolled": false
   },
   "outputs": [
    {
     "data": {
      "text/html": [
       "<div>\n",
       "<style scoped>\n",
       "    .dataframe tbody tr th:only-of-type {\n",
       "        vertical-align: middle;\n",
       "    }\n",
       "\n",
       "    .dataframe tbody tr th {\n",
       "        vertical-align: top;\n",
       "    }\n",
       "\n",
       "    .dataframe thead th {\n",
       "        text-align: right;\n",
       "    }\n",
       "</style>\n",
       "<table border=\"1\" class=\"dataframe\">\n",
       "  <thead>\n",
       "    <tr style=\"text-align: right;\">\n",
       "      <th></th>\n",
       "      <th>title</th>\n",
       "      <th>artist</th>\n",
       "    </tr>\n",
       "  </thead>\n",
       "  <tbody>\n",
       "    <tr>\n",
       "      <th>0</th>\n",
       "      <td>Like a Rolling Stone</td>\n",
       "      <td>Bob Dylan</td>\n",
       "    </tr>\n",
       "    <tr>\n",
       "      <th>1</th>\n",
       "      <td>(I Can't Get No) Satisfaction'</td>\n",
       "      <td>The Rolling Stones</td>\n",
       "    </tr>\n",
       "    <tr>\n",
       "      <th>2</th>\n",
       "      <td>Imagine</td>\n",
       "      <td>John Lennon</td>\n",
       "    </tr>\n",
       "    <tr>\n",
       "      <th>3</th>\n",
       "      <td>What's Going On</td>\n",
       "      <td>Marvin Gaye</td>\n",
       "    </tr>\n",
       "    <tr>\n",
       "      <th>4</th>\n",
       "      <td>Respect</td>\n",
       "      <td>Aretha Franklin</td>\n",
       "    </tr>\n",
       "  </tbody>\n",
       "</table>\n",
       "</div>"
      ],
      "text/plain": [
       "                            title              artist\n",
       "0            Like a Rolling Stone           Bob Dylan\n",
       "1  (I Can't Get No) Satisfaction'  The Rolling Stones\n",
       "2                         Imagine         John Lennon\n",
       "3                 What's Going On         Marvin Gaye\n",
       "4                         Respect     Aretha Franklin"
      ]
     },
     "execution_count": 221,
     "metadata": {},
     "output_type": "execute_result"
    }
   ],
   "source": [
    "nothotsongs=pd.read_csv('Top500Songs.csv', encoding='latin1')\n",
    "nothotsongs.head()\n",
    "not_hot_song=nothotsongs.loc[:,['title','artist']]\n",
    "not_hot_song.head()"
   ]
  },
  {
   "cell_type": "code",
   "execution_count": 222,
   "id": "8955dba3",
   "metadata": {},
   "outputs": [
    {
     "data": {
      "text/plain": [
       "title     0\n",
       "artist    0\n",
       "dtype: int64"
      ]
     },
     "execution_count": 222,
     "metadata": {},
     "output_type": "execute_result"
    }
   ],
   "source": [
    "not_hot_song.isna().sum()"
   ]
  },
  {
   "cell_type": "code",
   "execution_count": 223,
   "id": "71c6f6da",
   "metadata": {},
   "outputs": [
    {
     "data": {
      "text/plain": [
       "(500, 2)"
      ]
     },
     "execution_count": 223,
     "metadata": {},
     "output_type": "execute_result"
    }
   ],
   "source": [
    "not_hot_song.drop_duplicates()\n",
    "not_hot_song.shape"
   ]
  },
  {
   "cell_type": "code",
   "execution_count": 224,
   "id": "31db7908",
   "metadata": {},
   "outputs": [
    {
     "data": {
      "text/plain": [
       "0             Anti-Hero\n",
       "1         Lavender Haze\n",
       "2                Maroon\n",
       "3     Snow On The Beach\n",
       "4         Midnight Rain\n",
       "            ...        \n",
       "95             Dark Red\n",
       "96          From Now On\n",
       "97            Forget Me\n",
       "98             Miss You\n",
       "99             Despecha\n",
       "Name: title, Length: 100, dtype: object"
      ]
     },
     "execution_count": 224,
     "metadata": {},
     "output_type": "execute_result"
    }
   ],
   "source": [
    "hotsongs=pd.read_csv('hotsongs.csv')\n",
    "hotsongs.head()\n",
    "hotsongs['title']\n",
    "#not_hot_song['title']"
   ]
  },
  {
   "cell_type": "code",
   "execution_count": 225,
   "id": "b2fba8f7",
   "metadata": {},
   "outputs": [],
   "source": [
    "hot_songs = list(hotsongs['title'])\n",
    "not_hot_songs=list(not_hot_song['title'])\n"
   ]
  },
  {
   "cell_type": "code",
   "execution_count": 226,
   "id": "bd4e231f",
   "metadata": {},
   "outputs": [
    {
     "name": "stdout",
     "output_type": "stream",
     "text": [
      "['Miss You']\n"
     ]
    }
   ],
   "source": [
    "dupes = [x for x in not_hot_songs if x in hot_songs] \n",
    "print(dupes)\n"
   ]
  },
  {
   "cell_type": "code",
   "execution_count": 227,
   "id": "5938a785",
   "metadata": {},
   "outputs": [
    {
     "data": {
      "text/plain": [
       "(499, 2)"
      ]
     },
     "execution_count": 227,
     "metadata": {},
     "output_type": "execute_result"
    }
   ],
   "source": [
    "not_hot_song = not_hot_song[not_hot_song.title != 'Miss You']\n",
    "not_hot_song.shape"
   ]
  },
  {
   "cell_type": "code",
   "execution_count": 228,
   "id": "4afe399c",
   "metadata": {},
   "outputs": [],
   "source": [
    "not_hot_song.to_csv(\"not_hot_song.csv\")"
   ]
  }
 ],
 "metadata": {
  "kernelspec": {
   "display_name": "Python 3 (ipykernel)",
   "language": "python",
   "name": "python3"
  },
  "language_info": {
   "codemirror_mode": {
    "name": "ipython",
    "version": 3
   },
   "file_extension": ".py",
   "mimetype": "text/x-python",
   "name": "python",
   "nbconvert_exporter": "python",
   "pygments_lexer": "ipython3",
   "version": "3.9.12"
  }
 },
 "nbformat": 4,
 "nbformat_minor": 5
}
